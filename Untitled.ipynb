{
 "cells": [
  {
   "cell_type": "code",
   "execution_count": 4,
   "id": "2b3fae12",
   "metadata": {},
   "outputs": [],
   "source": [
    "url_ = 'b6470734a200ee658255a03b9293dea29fec434e0bc7f39b692d35'"
   ]
  },
  {
   "cell_type": "code",
   "execution_count": 15,
   "id": "ac29de04",
   "metadata": {},
   "outputs": [
    {
     "data": {
      "text/plain": [
       "74984595189522566702970887363044361864018913763846741945429339445"
      ]
     },
     "execution_count": 15,
     "metadata": {},
     "output_type": "execute_result"
    }
   ],
   "source": [
    "int(url_, 16)"
   ]
  },
  {
   "cell_type": "code",
   "execution_count": 17,
   "id": "f8f45293",
   "metadata": {},
   "outputs": [
    {
     "name": "stdout",
     "output_type": "stream",
     "text": [
      "1232154.231\n",
      "1232154.231\n"
     ]
    }
   ],
   "source": [
    "from urllib import parse\n",
    "\n",
    "\n",
    "text = '1232154.231'\n",
    "\n",
    "enc = parse.quote(text)\n",
    "dec = parse.unquote(enc)\n",
    "\n",
    "print(enc)\n",
    "print(dec)"
   ]
  },
  {
   "cell_type": "code",
   "execution_count": null,
   "id": "6cbe6f85",
   "metadata": {},
   "outputs": [],
   "source": []
  }
 ],
 "metadata": {
  "kernelspec": {
   "display_name": "Python 3 (ipykernel)",
   "language": "python",
   "name": "python3"
  },
  "language_info": {
   "codemirror_mode": {
    "name": "ipython",
    "version": 3
   },
   "file_extension": ".py",
   "mimetype": "text/x-python",
   "name": "python",
   "nbconvert_exporter": "python",
   "pygments_lexer": "ipython3",
   "version": "3.9.7"
  }
 },
 "nbformat": 4,
 "nbformat_minor": 5
}
